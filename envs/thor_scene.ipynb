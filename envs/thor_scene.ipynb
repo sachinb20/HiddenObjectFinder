{
 "cells": [
  {
   "cell_type": "code",
   "execution_count": 153,
   "metadata": {},
   "outputs": [
    {
     "name": "stdout",
     "output_type": "stream",
     "text": [
      "The autoreload extension is already loaded. To reload it, use:\n",
      "  %reload_ext autoreload\n"
     ]
    }
   ],
   "source": [
    "%load_ext autoreload\n",
    "%autoreload 2"
   ]
  },
  {
   "cell_type": "code",
   "execution_count": 261,
   "metadata": {},
   "outputs": [],
   "source": [
    "from scene_randomizer import randomize_scene"
   ]
  },
  {
   "cell_type": "code",
   "execution_count": 290,
   "metadata": {},
   "outputs": [],
   "source": [
    "scene_name = \"FloorPlan1\""
   ]
  },
  {
   "cell_type": "code",
   "execution_count": 291,
   "metadata": {},
   "outputs": [
    {
     "name": "stdout",
     "output_type": "stream",
     "text": [
      "Hidden object: Apple|+00.34|+00.19|-02.44\n",
      "Removed Apple|+01.01|+00.53|-02.28\n",
      "Openable object: Fridge|-02.10|+00.00|+01.09\n",
      "Center of object: {'x': -2.014936923980713, 'y': 0.9750985503196716, 'z': 1.0933185815811157}\n",
      "Previous position: {'x': 0.3364080786705017, 'y': 0.17209076881408691, 'z': -2.4357242584228516}\n",
      "Placing Apple_34d5f204 at (-2.014936923980713, 0.9750985503196716, 1.0933185815811157)\n"
     ]
    }
   ],
   "source": [
    "prev, after, random_obj, hidden_obj = randomize_scene(scene_name, debug=True)"
   ]
  },
  {
   "cell_type": "code",
   "execution_count": 292,
   "metadata": {},
   "outputs": [
    {
     "data": {
      "text/plain": [
       "(77, 77)"
      ]
     },
     "execution_count": 292,
     "metadata": {},
     "output_type": "execute_result"
    }
   ],
   "source": [
    "prev_ids = set(obj[\"objectId\"] for obj in prev['objects'])\n",
    "after_ids = set(obj[\"objectId\"] for obj in after['objects'])\n",
    "len(prev['objects']), len(after['objects'])"
   ]
  },
  {
   "cell_type": "code",
   "execution_count": 293,
   "metadata": {},
   "outputs": [
    {
     "data": {
      "text/plain": [
       "{'Apple|-00.47|+01.15|+00.48',\n",
       " 'Bottle|+01.54|+00.89|-02.54',\n",
       " 'Bowl|+00.27|+01.10|-00.75',\n",
       " 'Bread|-00.52|+01.17|-00.03',\n",
       " 'ButterKnife|-00.41|+01.10|-00.46',\n",
       " 'Cup|+00.37|+01.64|-02.58',\n",
       " 'Egg|-02.01|+00.81|+01.25',\n",
       " 'Mug|-01.76|+00.90|-00.62',\n",
       " 'PaperTowelRoll|-02.06|+01.01|-00.82',\n",
       " 'PepperShaker|+00.30|+00.90|-02.47',\n",
       " 'Statue|+01.96|+00.17|-02.54',\n",
       " 'Tomato|-00.39|+01.14|-00.81'}"
      ]
     },
     "execution_count": 293,
     "metadata": {},
     "output_type": "execute_result"
    }
   ],
   "source": [
    "prev_ids.difference(after_ids)"
   ]
  },
  {
   "cell_type": "code",
   "execution_count": 294,
   "metadata": {},
   "outputs": [
    {
     "data": {
      "text/plain": [
       "{'Apple|+00.34|+00.17|-02.44',\n",
       " 'Bottle|+00.29|+01.65|-02.63',\n",
       " 'Bowl|-02.03|+01.30|+01.09',\n",
       " 'Bread|-02.00|+00.29|+01.17',\n",
       " 'ButterKnife|+00.89|+00.31|-02.38',\n",
       " 'Cup|+00.78|+01.64|-02.60',\n",
       " 'Egg|-01.71|+00.16|+00.11',\n",
       " 'Mug|-02.16|+00.79|+01.17',\n",
       " 'PaperTowelRoll|-02.06|+01.01|-00.81',\n",
       " 'PepperShaker|-02.03|+01.31|+01.09',\n",
       " 'Statue|+01.95|+00.18|-02.54',\n",
       " 'Tomato|-02.12|+00.82|+00.84'}"
      ]
     },
     "execution_count": 294,
     "metadata": {},
     "output_type": "execute_result"
    }
   ],
   "source": [
    "after_ids.difference(prev_ids)"
   ]
  },
  {
   "cell_type": "code",
   "execution_count": 295,
   "metadata": {},
   "outputs": [
    {
     "data": {
      "text/plain": [
       "'Apple|-00.47|+01.15|+00.48'"
      ]
     },
     "execution_count": 295,
     "metadata": {},
     "output_type": "execute_result"
    }
   ],
   "source": [
    "random_obj['objectId']"
   ]
  },
  {
   "cell_type": "code",
   "execution_count": 296,
   "metadata": {},
   "outputs": [
    {
     "data": {
      "text/plain": [
       "False"
      ]
     },
     "execution_count": 296,
     "metadata": {},
     "output_type": "execute_result"
    }
   ],
   "source": [
    "random_obj['visible']"
   ]
  },
  {
   "cell_type": "code",
   "execution_count": 297,
   "metadata": {},
   "outputs": [
    {
     "data": {
      "text/plain": [
       "'Apple|+00.34|+00.19|-02.44'"
      ]
     },
     "execution_count": 297,
     "metadata": {},
     "output_type": "execute_result"
    }
   ],
   "source": [
    "hidden_obj['objectId']"
   ]
  },
  {
   "cell_type": "code",
   "execution_count": 298,
   "metadata": {},
   "outputs": [
    {
     "data": {
      "text/plain": [
       "False"
      ]
     },
     "execution_count": 298,
     "metadata": {},
     "output_type": "execute_result"
    }
   ],
   "source": [
    "hidden_obj['visible']"
   ]
  },
  {
   "cell_type": "code",
   "execution_count": 299,
   "metadata": {},
   "outputs": [
    {
     "data": {
      "text/plain": [
       "'Apple_34d5f204'"
      ]
     },
     "execution_count": 299,
     "metadata": {},
     "output_type": "execute_result"
    }
   ],
   "source": [
    "hidden_obj['name']"
   ]
  },
  {
   "cell_type": "code",
   "execution_count": null,
   "metadata": {},
   "outputs": [],
   "source": []
  },
  {
   "cell_type": "code",
   "execution_count": 300,
   "metadata": {},
   "outputs": [],
   "source": [
    "# Create an AI2-THOR controller\n",
    "controller = Controller()\n",
    "\n",
    "# Set the scene to the specified scene name\n",
    "event = controller.reset(scene_name)"
   ]
  },
  {
   "cell_type": "code",
   "execution_count": 301,
   "metadata": {},
   "outputs": [],
   "source": [
    "# use final event metadata to set object poses\n",
    "poses = [\n",
    "    {\n",
    "        \"objectName\": obj[\"name\"],\n",
    "        \"rotation\": obj['rotation'],\n",
    "        \"position\": obj['position']\n",
    "    } for obj in after['objects']\n",
    "]\n",
    "event_metadata = controller.step(\n",
    "                action='SetObjectPoses',\n",
    "                objectPoses=poses\n",
    ").metadata"
   ]
  },
  {
   "cell_type": "code",
   "execution_count": 302,
   "metadata": {},
   "outputs": [],
   "source": [
    "event_metadata_ids = set(obj[\"objectId\"] for obj in event_metadata['objects'])"
   ]
  },
  {
   "cell_type": "code",
   "execution_count": 303,
   "metadata": {},
   "outputs": [
    {
     "data": {
      "text/plain": [
       "set()"
      ]
     },
     "execution_count": 303,
     "metadata": {},
     "output_type": "execute_result"
    }
   ],
   "source": [
    "event_metadata_ids.difference(after_ids)"
   ]
  },
  {
   "cell_type": "code",
   "execution_count": 304,
   "metadata": {},
   "outputs": [
    {
     "data": {
      "text/plain": [
       "set()"
      ]
     },
     "execution_count": 304,
     "metadata": {},
     "output_type": "execute_result"
    }
   ],
   "source": [
    "after_ids.difference(event_metadata_ids)"
   ]
  },
  {
   "cell_type": "code",
   "execution_count": 305,
   "metadata": {},
   "outputs": [],
   "source": [
    "controller.stop()"
   ]
  },
  {
   "cell_type": "code",
   "execution_count": 306,
   "metadata": {},
   "outputs": [
    {
     "data": {
      "text/plain": [
       "dict_keys(['objects', 'isSceneAtRest', 'agent', 'hand', 'arm', 'fov', 'cameraPosition', 'cameraOrthSize', 'thirdPartyCameras', 'collided', 'collidedObjects', 'inventoryObjects', 'sceneName', 'lastAction', 'errorMessage', 'errorCode', 'lastActionSuccess', 'screenWidth', 'screenHeight', 'agentId', 'colors', 'colorBounds', 'flatSurfacesOnGrid', 'distances', 'normals', 'isOpenableGrid', 'segmentedObjectIds', 'objectIdsInBox', 'actionIntReturn', 'actionFloatReturn', 'actionStringsReturn', 'actionFloatsReturn', 'actionVector3sReturn', 'visibleRange', 'currentTime', 'sceneBounds', 'updateCount', 'fixedUpdateCount', 'actionReturn'])"
      ]
     },
     "execution_count": 306,
     "metadata": {},
     "output_type": "execute_result"
    }
   ],
   "source": [
    "after.keys()"
   ]
  },
  {
   "cell_type": "code",
   "execution_count": 307,
   "metadata": {},
   "outputs": [
    {
     "data": {
      "text/plain": [
       "dict_keys(['objects', 'isSceneAtRest', 'agent', 'hand', 'arm', 'fov', 'cameraPosition', 'cameraOrthSize', 'thirdPartyCameras', 'collided', 'collidedObjects', 'inventoryObjects', 'sceneName', 'lastAction', 'errorMessage', 'errorCode', 'lastActionSuccess', 'screenWidth', 'screenHeight', 'agentId', 'colors', 'colorBounds', 'flatSurfacesOnGrid', 'distances', 'normals', 'isOpenableGrid', 'segmentedObjectIds', 'objectIdsInBox', 'actionIntReturn', 'actionFloatReturn', 'actionStringsReturn', 'actionFloatsReturn', 'actionVector3sReturn', 'visibleRange', 'currentTime', 'sceneBounds', 'updateCount', 'fixedUpdateCount', 'actionReturn'])"
      ]
     },
     "execution_count": 307,
     "metadata": {},
     "output_type": "execute_result"
    }
   ],
   "source": [
    "event_metadata.keys()"
   ]
  },
  {
   "cell_type": "code",
   "execution_count": 308,
   "metadata": {},
   "outputs": [],
   "source": [
    "id2idx_ = {obj[\"objectId\"] : i for i, obj in enumerate(after['objects'])}\n",
    "id2idx = {obj[\"objectId\"] : i for i, obj in enumerate(event_metadata['objects'])}\n",
    "# id2idx_, id2idx"
   ]
  },
  {
   "cell_type": "code",
   "execution_count": 309,
   "metadata": {},
   "outputs": [],
   "source": [
    "for objId in after_ids:\n",
    "    idx1, idx2 = id2idx_[objId], id2idx[objId]\n",
    "    obj1, obj2 = after['objects'][idx1], event_metadata['objects'][idx2]\n",
    "    # print(obj1['position'] == obj2['position'])\n",
    "    if obj1['position'] != obj2['position']:\n",
    "        print(obj1['position'])\n",
    "        print(obj2['position'])"
   ]
  },
  {
   "cell_type": "code",
   "execution_count": null,
   "metadata": {},
   "outputs": [],
   "source": []
  }
 ],
 "metadata": {
  "kernelspec": {
   "display_name": "vimm",
   "language": "python",
   "name": "vimm"
  },
  "language_info": {
   "codemirror_mode": {
    "name": "ipython",
    "version": 3
   },
   "file_extension": ".py",
   "mimetype": "text/x-python",
   "name": "python",
   "nbconvert_exporter": "python",
   "pygments_lexer": "ipython3",
   "version": "3.12.3"
  }
 },
 "nbformat": 4,
 "nbformat_minor": 4
}
