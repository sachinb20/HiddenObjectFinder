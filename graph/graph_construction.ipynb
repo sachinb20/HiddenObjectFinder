{
 "cells": [
  {
   "cell_type": "code",
   "execution_count": 8,
   "id": "8dae6aab",
   "metadata": {},
   "outputs": [],
   "source": [
    "from ai2thor.controller import Controller\n",
    "\n",
    "def print_objects(prop):\n",
    "    print(f\"Printing: {prop}\")\n",
    "    for obj in controller.last_event.metadata[\"objects\"]:\n",
    "        if obj['visible'] and obj[prop]:\n",
    "            print(obj['objectId'])"
   ]
  },
  {
   "cell_type": "code",
   "execution_count": 269,
   "id": "ddd59d58",
   "metadata": {
    "scrolled": true
   },
   "outputs": [],
   "source": [
    "#controller = Controller(renderDepthImage=True, renderInstanceSegmentation=True)\n",
    "#events = [controller.last_event]\n",
    "#\n",
    "#while True:\n",
    "#    next_action = input()\n",
    "#    if next_action == \"Done\":\n",
    "#        controller.stop()\n",
    "#        break\n",
    "#    elif next_action == \"printVis\":\n",
    "#        print_objects(\"pickupable\")\n",
    "#        continue\n",
    "#    \n",
    "#    if next_action == \"PickupObject\":\n",
    "#        print_objects(\"pickupable\")\n",
    "#        obj_id = input()\n",
    "#        event = controller.step(action=next_action, objectId=obj_id)\n",
    "#    elif next_action == \"PutObject\":\n",
    "#        print_objects(\"receptacle\")\n",
    "#        obj_id = input()\n",
    "#        event = controller.step(action=next_action, objectId=obj_id)\n",
    "#    else:\n",
    "#        event = controller.step(action=next_action)\n",
    "#    events.append(event)"
   ]
  },
  {
   "cell_type": "code",
   "execution_count": 270,
   "id": "19098409",
   "metadata": {},
   "outputs": [],
   "source": [
    "#import pickle\n",
    "#\n",
    "#with open('events_trial.pkl', 'wb') as f:\n",
    "#    pickle.dump(events, f)"
   ]
  },
  {
   "cell_type": "code",
   "execution_count": 146,
   "id": "0c05d92e",
   "metadata": {},
   "outputs": [],
   "source": [
    "def getObjectById(event, object_id):\n",
    "    for obj in event.metadata[\"objects\"]:\n",
    "        if obj[\"objectId\"] == object_id:\n",
    "            return obj\n",
    "    return None"
   ]
  },
  {
   "cell_type": "code",
   "execution_count": 271,
   "id": "7bfb0fb5",
   "metadata": {
    "scrolled": true
   },
   "outputs": [],
   "source": [
    "from transformers import ViTModel, ViTFeatureExtractor\n",
    "import pickle\n",
    "\n",
    "\n",
    "with open('events_trial.pkl', 'rb') as f:\n",
    "    events = pickle.load(f)\n",
    "\n",
    "\n",
    "model = ViTModel.from_pretrained('google/vit-base-patch16-224-in21k')\n",
    "feature_extractor = ViTFeatureExtractor.from_pretrained('google/vit-base-patch16-224-in21k')\n",
    "\n",
    "observations = []\n",
    "for i in range(len(events)-1):\n",
    "    prev_action_event = events[i]\n",
    "    action_event = events[i+1]\n",
    "    observation = {\n",
    "        \"action\": action_event.metadata[\"lastAction\"]\n",
    "    }\n",
    "    if observation[\"action\"] == \"PickupObject\":\n",
    "        observation[\"objectId\"] = action_event.metadata[\"actionReturn\"]\n",
    "        obj = getObjectById(prev_action_event, observation[\"objectId\"])\n",
    "        objPos = obj['position']\n",
    "        observation[\"objectPos\"] = torch.tensor([objPos['x'], objPos['y'], objPos['z']])\n",
    "        observation[\"objectCrop\"] = torch.from_numpy(action_event.frame.copy())[150:250, 100:200].permute(2, 0, 1)\n",
    "        \n",
    "        objectFeatures = feature_extractor(images=observation[\"objectCrop\"], return_tensors=\"pt\")\n",
    "        observation[\"objectEmb\"] = model(**objectFeatures).pooler_output.squeeze()\n",
    "        \n",
    "        receptacleId = obj['parentReceptacles'][0]\n",
    "        observation[\"receptacleId\"] = receptacleId\n",
    "        receptacle = getObjectById(event, receptacleId)\n",
    "        receptaclePos = receptacle['position']\n",
    "        observation[\"receptaclePos\"] = torch.tensor([receptaclePos['x'], receptaclePos['y'], receptaclePos['z']])\n",
    "        \n",
    "        x1, y1, x2, y2 = prev_action_event.instance_detections2D[receptacleId]\n",
    "        observation[\"receptacleCrop\"] = torch.from_numpy(prev_action_event.frame.copy())[y1:y2, x1:x2].permute(2, 0, 1)\n",
    "        receptacleFeatures = feature_extractor(images=observation[\"receptacleCrop\"], return_tensors=\"pt\")\n",
    "        observation[\"receptacleEmb\"] = model(**receptacleFeatures).pooler_output.squeeze()\n",
    "    else:\n",
    "        continue\n",
    "    observations.append(observation)"
   ]
  },
  {
   "cell_type": "code",
   "execution_count": 272,
   "id": "fc4876c6",
   "metadata": {},
   "outputs": [],
   "source": [
    "import torch.nn.functional as F\n",
    "\n",
    "\n",
    "class GraphNode:\n",
    "    def __init__(self, pos, emb, ai2thorid):\n",
    "        self.pos = pos\n",
    "        self.emb = emb\n",
    "        self.children_ids = []\n",
    "        self.ai2thorid = ai2thorid.split('|')[0]\n",
    "        \n",
    "        self.pos_thr = 0.99\n",
    "        self.emb_thr = 0.9\n",
    "\n",
    "    def isEqual(self, pos, emb):\n",
    "        return F.cosine_similarity(self.emb, emb, dim=0) > self.emb_thr and F.cosine_similarity(self.pos, pos, dim=0) > self.pos_thr\n",
    "\n",
    "    def addChild(self, child_id):\n",
    "        self.children_ids.append(child_id)\n",
    "\n",
    "\n",
    "class Graph:\n",
    "    def __init__(self):\n",
    "        self.nodes = []\n",
    "        \n",
    "    def find(self, pos, emb):\n",
    "        for node_id in range(len(self.nodes)):\n",
    "            if self.nodes[node_id].isEqual(pos, emb):\n",
    "                node_id\n",
    "        return -1\n",
    "        \n",
    "    def addNode(self, pos, emb, ai2thorid):\n",
    "        new_node_id = len(self.nodes)\n",
    "        self.nodes.append(GraphNode(pos, emb, ai2thorid))\n",
    "        return new_node_id\n",
    "    \n",
    "    def addChildNode(self, parent_id, pos, emb, ai2thorid):\n",
    "        new_child_id = self.addNode(pos, emb, ai2thorid)\n",
    "        self.nodes[parent_id].addChild(new_child_id)\n",
    "        \n",
    "def build_graph(observations):\n",
    "    g = Graph()\n",
    "    \n",
    "    for obs in observations:\n",
    "        receptacle_id = g.find(pos=obs[\"receptaclePos\"], emb=obs[\"receptacleEmb\"])\n",
    "        object_id = g.find(pos=obs[\"objectPos\"], emb=obs[\"objectEmb\"])\n",
    "        if receptacle_id == -1:\n",
    "            node_id = g.addNode(obs[\"receptaclePos\"], obs[\"receptacleEmb\"], ai2thorid=obs[\"receptacleId\"])\n",
    "            g.addChildNode(parent_id=node_id, pos=obs[\"objectPos\"], emb=obs[\"objectEmb\"], ai2thorid=obs[\"objectId\"])\n",
    "        elif object_id == -1:\n",
    "            g.addChildNode(parent_id=receptacle_id, pos=obs[\"objectPos\"], emb=obs[\"objectEmb\"], ai2thorid=obs[\"objectId\"])\n",
    "    \n",
    "    return g"
   ]
  },
  {
   "cell_type": "code",
   "execution_count": 273,
   "id": "b3283deb",
   "metadata": {},
   "outputs": [
    {
     "data": {
      "image/png": "[encoded data removed]",
      "text/plain": [
       "<Figure size 640x480 with 1 Axes>"
      ]
     },
     "metadata": {},
     "output_type": "display_data"
    }
   ],
   "source": [
    "import networkx as nx\n",
    "import matplotlib.pyplot as plt\n",
    "\n",
    "g = build_graph(observations)\n",
    "\n",
    "DG = nx.DiGraph()\n",
    "\n",
    "for node in g.nodes:\n",
    "    DG.add_node(node.ai2thorid)\n",
    "\n",
    "for node in g.nodes:\n",
    "    for child_node_id in node.children_ids:\n",
    "        DG.add_edge(node.ai2thorid, g.nodes[child_node_id].ai2thorid)\n",
    "\n",
    "\n",
    "nx.draw(DG, with_labels=True, node_color='lightblue', edge_color='gray')\n",
    "plt.show()"
   ]
  }
 ],
 "metadata": {
  "kernelspec": {
   "display_name": "mnlp-venv",
   "language": "python",
   "name": "mnlp-venv"
  },
  "language_info": {
   "codemirror_mode": {
    "name": "ipython",
    "version": 3
   },
   "file_extension": ".py",
   "mimetype": "text/x-python",
   "name": "python",
   "nbconvert_exporter": "python",
   "pygments_lexer": "ipython3",
   "version": "3.10.12"
  }
 },
 "nbformat": 4,
 "nbformat_minor": 5
}
